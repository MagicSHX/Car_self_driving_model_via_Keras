{
 "cells": [
  {
   "cell_type": "code",
   "execution_count": 1,
   "metadata": {},
   "outputs": [
    {
     "name": "stderr",
     "output_type": "stream",
     "text": [
      "D:\\Software\\Anaconda3\\lib\\site-packages\\h5py\\__init__.py:36: FutureWarning: Conversion of the second argument of issubdtype from `float` to `np.floating` is deprecated. In future, it will be treated as `np.float64 == np.dtype(float).type`.\n",
      "  from ._conv import register_converters as _register_converters\n",
      "Using TensorFlow backend.\n",
      "D:\\Software\\Anaconda3\\lib\\site-packages\\ipykernel_launcher.py:101: UserWarning: Update your `Conv2D` call to the Keras 2 API: `Conv2D(24, (5, 5), activation=\"relu\", strides=(2, 2))`\n",
      "D:\\Software\\Anaconda3\\lib\\site-packages\\ipykernel_launcher.py:103: UserWarning: Update your `Conv2D` call to the Keras 2 API: `Conv2D(36, (5, 5), activation=\"relu\", strides=(2, 2))`\n",
      "D:\\Software\\Anaconda3\\lib\\site-packages\\ipykernel_launcher.py:105: UserWarning: Update your `Conv2D` call to the Keras 2 API: `Conv2D(48, (5, 5), activation=\"relu\", strides=(2, 2))`\n",
      "D:\\Software\\Anaconda3\\lib\\site-packages\\ipykernel_launcher.py:107: UserWarning: Update your `Conv2D` call to the Keras 2 API: `Conv2D(64, (3, 3), activation=\"relu\")`\n",
      "D:\\Software\\Anaconda3\\lib\\site-packages\\ipykernel_launcher.py:109: UserWarning: Update your `Conv2D` call to the Keras 2 API: `Conv2D(64, (3, 3), activation=\"relu\")`\n",
      "D:\\Software\\Anaconda3\\lib\\site-packages\\ipykernel_launcher.py:133: UserWarning: The semantics of the Keras 2 argument `steps_per_epoch` is not the same as the Keras 1 argument `samples_per_epoch`. `steps_per_epoch` is the number of batches to draw from the generator at each epoch. Basically steps_per_epoch = samples_per_epoch/batch_size. Similarly `nb_val_samples`->`validation_steps` and `val_samples`->`steps` arguments have changed. Update your method calls accordingly.\n",
      "D:\\Software\\Anaconda3\\lib\\site-packages\\ipykernel_launcher.py:133: UserWarning: Update your `fit_generator` call to the Keras 2 API: `fit_generator(<generator..., validation_data=<generator..., verbose=1, steps_per_epoch=16975, epochs=4, validation_steps=4244)`\n"
     ]
    },
    {
     "name": "stdout",
     "output_type": "stream",
     "text": [
      "Epoch 1/4\n",
      "16975/16975 [==============================] - 972s 57ms/step - loss: 0.0192 - val_loss: 0.0166\n",
      "Epoch 2/4\n",
      "16975/16975 [==============================] - 972s 57ms/step - loss: 0.0066 - val_loss: 0.0156\n",
      "Epoch 3/4\n",
      "16975/16975 [==============================] - 969s 57ms/step - loss: 0.0048 - val_loss: 0.0156\n",
      "Epoch 4/4\n",
      "16975/16975 [==============================] - 974s 57ms/step - loss: 0.0041 - val_loss: 0.0151\n",
      "dict_keys(['val_loss', 'loss'])\n"
     ]
    },
    {
     "data": {
      "text/plain": [
       "<Figure size 640x480 with 1 Axes>"
      ]
     },
     "metadata": {},
     "output_type": "display_data"
    }
   ],
   "source": [
    "import csv\n",
    "import cv2\n",
    "import numpy as np\n",
    "from random import shuffle\n",
    "import os\n",
    "\n",
    "os.environ['TF_CPP_MIN_LOG_LEVEL'] = '2'\n",
    "\n",
    "samples = []\n",
    "#with open('G:/Udacity/Project 3/data collection/driving_log.csv') as csvfile:\n",
    "with open('C:/Users/HX/Self_drive_car_Project_3/data/data/driving_log_20180631_d.csv') as csvfile:\n",
    "    reader = csv.reader(csvfile)\n",
    "    for line in reader:\n",
    "        samples.append(line)\n",
    "#samples = samples[1:1681]\n",
    "#print(samples)\n",
    "from sklearn.model_selection import train_test_split\n",
    "train_samples, validation_samples = train_test_split(samples, test_size=0.2)\n",
    "\n",
    "import cv2\n",
    "import numpy as np\n",
    "import sklearn\n",
    "\n",
    "def generator(samples, batch_size=32):\n",
    "    num_samples = len(samples)\n",
    "    while 1: # Loop forever so the generator never terminates\n",
    "        shuffle(samples)\n",
    "        for offset in range(0, num_samples, batch_size):\n",
    "            batch_samples = samples[offset:offset+batch_size]\n",
    "\n",
    "            images = []\n",
    "            angles = []\n",
    "            for batch_sample in batch_samples:\n",
    "                #name = 'G:/Udacity/Project 3/data collection/IMG/'+batch_sample[0].split('\\\\')[-1]\n",
    "                name = 'C:/Users/HX/Self_drive_car_Project_3/data/data/IMG/'+batch_sample[0].split('/')[-1]\n",
    "                center_image = cv2.imread(name)\n",
    "                center_angle = float(batch_sample[3])\n",
    "                images.append(center_image)\n",
    "                angles.append(center_angle)\n",
    "            augmented_images, augmented_angles=[],[]\n",
    "            for image, angle in zip(images, angles):\n",
    "                augmented_images.append(image)\n",
    "                augmented_angles.append(angle)\n",
    "                augmented_images.append(cv2.flip(image,1))\n",
    "                augmented_angles.append(angle*-1.0)\n",
    "            # trim image to only see section with road\n",
    "            X_train = np.array(augmented_images)\n",
    "            y_train = np.array(augmented_angles)\n",
    "            yield sklearn.utils.shuffle(X_train, y_train)\n",
    "\n",
    "# compile and train the model using the generator function\n",
    "train_generator = generator(train_samples, batch_size=32)\n",
    "validation_generator = generator(validation_samples, batch_size=32)\n",
    "\n",
    "\n",
    "\"\"\"\n",
    "lines=[]\n",
    "with open('G:/Udacity/Project 3/data collection/driving_log.csv') as csvfile:\n",
    "    reader=csv.reader(csvfile)\n",
    "    for line in reader:\n",
    "        lines.append(line)\n",
    "\n",
    "#print(lines)\n",
    "        \n",
    "images=[]\n",
    "measurements=[]\n",
    "for line in lines:\n",
    "    for i in range(3):\n",
    "        source_path=line[i]\n",
    "        #print(source_path)\n",
    "        filename=source_path.split('\\\\')[-1]\n",
    "        #print(filename)\n",
    "        current_path='G:/Udacity/Project 3/data collection/IMG/'+filename\n",
    "        image = cv2.imread(current_path)\n",
    "        images.append(image)\n",
    "        measurement = float(line[3])\n",
    "        measurements.append(measurement)\n",
    "\n",
    "    \n",
    "augmented_images, augmented_measurements=[],[]\n",
    "for image, measurement in zip(images, measurements):\n",
    "    augmented_images.append(image)\n",
    "    augmented_measurements.append(measurement)\n",
    "    augmented_images.append(cv2.flip(image,1))\n",
    "    augmented_measurements.append(measurement*-1.0)\n",
    "    \n",
    "    \n",
    "x_train=np.array(augmented_images)\n",
    "y_train=np.array(augmented_measurements)\n",
    "\n",
    "\"\"\"\n",
    "\n",
    "from keras.models import Sequential\n",
    "from keras.layers import Flatten, Dense, InputLayer, Lambda, Dropout\n",
    "from keras.layers import Convolution2D, MaxPooling2D, Cropping2D\n",
    "model=Sequential()\n",
    "#model.add(InputLayer(input_shape=[160,320,3]))\n",
    "\n",
    "model.add(Lambda(lambda x: (x / 255.0) - 0.5, input_shape=(160,320,3)))\n",
    "model.add(Cropping2D(cropping=((50,20), (0,0))))\n",
    "model.add(Convolution2D(24,5,5,subsample=(2,2),activation=\"relu\"))\n",
    "#model.add(MaxPooling2D())\n",
    "model.add(Convolution2D(36,5,5,subsample=(2,2),activation=\"relu\"))\n",
    "#model.add(MaxPooling2D())\n",
    "model.add(Convolution2D(48,5,5,subsample=(2,2),activation=\"relu\"))\n",
    "#model.add(MaxPooling2D())\n",
    "model.add(Convolution2D(64,3,3,activation=\"relu\"))\n",
    "#model.add(MaxPooling2D())\n",
    "model.add(Convolution2D(64,3,3,activation=\"relu\"))\n",
    "#model.add(MaxPooling2D())\n",
    "model.add(Dropout(0.5))\n",
    "model.add(Flatten())\n",
    "model.add(Dense(100,activation=\"relu\"))\n",
    "model.add(Dropout(0.1))\n",
    "model.add(Dense(50,activation=\"relu\"))\n",
    "#model.add(Dropout(0.1))\n",
    "model.add(Dense(10,activation=\"relu\"))\n",
    "#model.add(Dropout(0.1))\n",
    "model.add(Dense(1))\n",
    "\n",
    "model.compile(loss='mse', optimizer='adam')\n",
    "#model.fit(x_train, y_train, validation_split=0.2, shuffle=True, nb_epoch=3)\n",
    "\n",
    "\n",
    "\n",
    "from keras.models import Model\n",
    "import matplotlib.pyplot as plt\n",
    "\n",
    "history_object = model.fit_generator(train_generator, samples_per_epoch =\n",
    "    len(train_samples), validation_data = \n",
    "    validation_generator,\n",
    "    nb_val_samples = len(validation_samples), \n",
    "    nb_epoch=4, verbose=1)\n",
    "model.save('model.h5')\n",
    "### print the keys contained in the history object\n",
    "print(history_object.history.keys())\n",
    "\n",
    "### plot the training and validation loss for each epoch\n",
    "plt.plot(history_object.history['loss'])\n",
    "plt.plot(history_object.history['val_loss'])\n",
    "plt.title('model mean squared error loss')\n",
    "plt.ylabel('mean squared error loss')\n",
    "plt.xlabel('epoch')\n",
    "plt.legend(['training set', 'validation set'], loc='upper right')\n",
    "plt.show()\n"
   ]
  },
  {
   "cell_type": "code",
   "execution_count": 2,
   "metadata": {},
   "outputs": [
    {
     "name": "stdout",
     "output_type": "stream",
     "text": [
      " Volume in drive C is Workspace\n",
      " Volume Serial Number is 64C6-CADB\n",
      "\n",
      " Directory of C:\\Users\\HX\\Self_drive_car_Project_3\n",
      "\n",
      "02/07/2018  10:52 PM    <DIR>          .\n",
      "02/07/2018  10:52 PM    <DIR>          ..\n",
      "15/06/2018  11:47 PM    <DIR>          .ipynb_checkpoints\n",
      "15/06/2018  11:50 PM    <DIR>          data\n",
      "09/06/2018  09:56 AM       333,137,665 data.zip\n",
      "09/06/2018  04:24 PM             3,879 drive.py\n",
      "09/06/2018  04:24 PM             1,075 LICENSE\n",
      "02/07/2018  10:53 PM        11,850,080 model.h5\n",
      "09/06/2018  04:24 PM             6,533 README.md\n",
      "02/07/2018  10:52 PM            10,052 Self_drive_car_Project_3 - 0609pm.ipynb\n",
      "09/06/2018  04:24 PM             1,344 video.py\n",
      "15/06/2018  11:47 PM    <DIR>          windows-sim\n",
      "09/06/2018  10:01 AM       107,175,130 windows-sim.zip\n",
      "09/06/2018  04:24 PM             5,897 writeup_template.md\n",
      "               9 File(s)    452,191,655 bytes\n",
      "               5 Dir(s)  202,113,417,216 bytes free\n"
     ]
    }
   ],
   "source": [
    "ls"
   ]
  },
  {
   "cell_type": "code",
   "execution_count": 3,
   "metadata": {},
   "outputs": [
    {
     "ename": "SyntaxError",
     "evalue": "invalid syntax (<ipython-input-3-c4f1a582b69d>, line 1)",
     "output_type": "error",
     "traceback": [
      "\u001b[1;36m  File \u001b[1;32m\"<ipython-input-3-c4f1a582b69d>\"\u001b[1;36m, line \u001b[1;32m1\u001b[0m\n\u001b[1;33m    python drive.py model.h5\u001b[0m\n\u001b[1;37m               ^\u001b[0m\n\u001b[1;31mSyntaxError\u001b[0m\u001b[1;31m:\u001b[0m invalid syntax\n"
     ]
    }
   ],
   "source": [
    "python drive.py model.h5"
   ]
  },
  {
   "cell_type": "code",
   "execution_count": null,
   "metadata": {
    "collapsed": true
   },
   "outputs": [],
   "source": [
    "model.h5\n"
   ]
  }
 ],
 "metadata": {
  "kernelspec": {
   "display_name": "Python 3",
   "language": "python",
   "name": "python3"
  },
  "language_info": {
   "codemirror_mode": {
    "name": "ipython",
    "version": 3
   },
   "file_extension": ".py",
   "mimetype": "text/x-python",
   "name": "python",
   "nbconvert_exporter": "python",
   "pygments_lexer": "ipython3",
   "version": "3.6.3"
  }
 },
 "nbformat": 4,
 "nbformat_minor": 2
}
